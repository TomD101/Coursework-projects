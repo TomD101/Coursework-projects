{
 "cells": [
  {
   "cell_type": "code",
   "execution_count": 1,
   "metadata": {},
   "outputs": [],
   "source": [
    "import spacy # Import the spacy library\n",
    "import pandas as pd\n",
    "import re # Regular expressions for handling symbols and irregular text\n",
    "# import numpy as np"
   ]
  },
  {
   "cell_type": "code",
   "execution_count": 2,
   "metadata": {},
   "outputs": [
    {
     "name": "stderr",
     "output_type": "stream",
     "text": [
      "C:\\Users\\tom_d\\AppData\\Local\\Temp\\ipykernel_10540\\1055649648.py:5: DtypeWarning: Columns (1,10) have mixed types. Specify dtype option on import or set low_memory=False.\n",
      "  df = pd.read_csv('amazon_product_reviews.csv')\n"
     ]
    }
   ],
   "source": [
    "# Load small word sentiment module\n",
    "nlp = spacy.load('en_core_web_sm')\n",
    "\n",
    "# Import dataframe\n",
    "df = pd.read_csv('amazon_product_reviews.csv')"
   ]
  },
  {
   "cell_type": "code",
   "execution_count": 3,
   "metadata": {},
   "outputs": [],
   "source": [
    "# Drop null values and select only the reviews.text column\n",
    "amazon_df = df.dropna(subset=['reviews.text'])"
   ]
  },
  {
   "cell_type": "markdown",
   "metadata": {},
   "source": [
    "Data cleaning"
   ]
  },
  {
   "cell_type": "code",
   "execution_count": 43,
   "metadata": {},
   "outputs": [
    {
     "data": {
      "text/plain": [
       "0    This product so far has not disappointed. My c...\n",
       "1    great for beginner or experienced person. Boug...\n",
       "2    Inexpensive tablet for him to use and learn on...\n",
       "3    I've had my Fire HD 8 two weeks now and I love...\n",
       "4    I bought this for my grand daughter when she c...\n",
       "Name: reviews.text, dtype: object"
      ]
     },
     "execution_count": 43,
     "metadata": {},
     "output_type": "execute_result"
    }
   ],
   "source": [
    "#Load the reviews text column from dataset\n",
    "reviews_data = amazon_df['reviews.text']\n",
    "reviews_data.head(5) # view first few records to check they loaded correctly"
   ]
  },
  {
   "cell_type": "code",
   "execution_count": 44,
   "metadata": {},
   "outputs": [],
   "source": [
    "\n",
    "def normalise_text(text):\n",
    "  \"\"\"\n",
    "  This function normalises text for sentiment analysis.\n",
    "\n",
    "  Args:\n",
    "      text (str): The text data to be normalised.\n",
    "\n",
    "  Returns:\n",
    "      list: A list of normalised tokens.\n",
    "  \"\"\"\n",
    "\n",
    "  # Expression for character filtering\n",
    "  text = re.sub(r\"[^A-Za-z0-9_]\", \" \", str(text))  # Allow letters, numbers, and underscores\n",
    "\n",
    "  # Process text with spaCy\n",
    "  doc = nlp(text)\n",
    "\n",
    "  # List to store normalised tokens\n",
    "  normalised_tokens = []\n",
    "\n",
    "  for token in doc:\n",
    "    # Filter based on text features to be removed\n",
    "    if (token.is_stop  # Remove stop words\n",
    "        or token.is_punct  # Remove punctuation\n",
    "        or token.is_currency  # Remove currency symbols\n",
    "        or len(token.text) <= 2):  # Remove words with length 2 or less\n",
    "      continue\n",
    "\n",
    "\n",
    "    # Lemmatisation and lowercase conversion\n",
    "    normalised_tokens.append(token.lemma_.lower())\n",
    "\n",
    "  return normalised_tokens # output from function is list of lemmatised text"
   ]
  },
  {
   "cell_type": "code",
   "execution_count": 45,
   "metadata": {},
   "outputs": [],
   "source": [
    "# Make list and call function for all reviews\n",
    "normalised_reviews = []\n",
    "for review in reviews_data:\n",
    "  normalised_reviews.append(\" \".join(normalise_text(review))) # appends the lematised words back to strings before occupying list"
   ]
  },
  {
   "cell_type": "code",
   "execution_count": 47,
   "metadata": {},
   "outputs": [
    {
     "name": "stdout",
     "output_type": "stream",
     "text": [
      "Review: The product didn't do what I expected it to\n",
      "Predicted Sentiment: negative\n"
     ]
    }
   ],
   "source": [
    "# import sentiment analysis module\n",
    "from textblob import TextBlob\n",
    "\n",
    "\"\"\"\n",
    "  This function predicts sentiment of text.\n",
    "\n",
    "  Args:\n",
    "      text (str): The text data to have sentiment predicted.\n",
    "\n",
    "  Returns:\n",
    "      list: A list of sentiment tokens.\n",
    "\"\"\"\n",
    "def predict_sentiment(text):\n",
    "    # Create a TextBlob object from the review text\n",
    "    blob = TextBlob(text)\n",
    "\n",
    "    # Get sentiment polarity\n",
    "    sentiment = blob.sentiment.polarity\n",
    "\n",
    "    # Classify sentiment based on polarity score\n",
    "    if sentiment > 0:\n",
    "        return \"positive\"\n",
    "    elif sentiment < 0:\n",
    "        return \"negative\"\n",
    "    else:\n",
    "        return \"neutral\"\n"
   ]
  },
  {
   "cell_type": "code",
   "execution_count": null,
   "metadata": {},
   "outputs": [],
   "source": [
    "# Example review to test sentiment analysis function\n",
    "review = \"The product didn't do what I expected it to\" # Enter a review string to generate prediction of positive, neutral or negative\n",
    "predicted_sentiment = predict_sentiment(review) # call function\n",
    "print(f\"Review: {review}\") # print review\n",
    "print(f\"Predicted Sentiment: {predicted_sentiment}\") # print sentiment"
   ]
  },
  {
   "cell_type": "code",
   "execution_count": 48,
   "metadata": {},
   "outputs": [],
   "source": [
    "# Select specific reviews\n",
    "selected_reviews = normalised_reviews[0:50]  # Select the first 50 reviews\n",
    "\n",
    "# List to store predicted sentiments\n",
    "predicted_sentiments = []"
   ]
  },
  {
   "cell_type": "code",
   "execution_count": 53,
   "metadata": {},
   "outputs": [],
   "source": [
    "# Predict sentiment for each selected review\n",
    "for review in selected_reviews:\n",
    "  predicted_sentiment = predict_sentiment(review)\n",
    "  predicted_sentiments.append(predicted_sentiment)"
   ]
  },
  {
   "cell_type": "code",
   "execution_count": 54,
   "metadata": {},
   "outputs": [
    {
     "name": "stdout",
     "output_type": "stream",
     "text": [
      "Length of predicted_sentiments: 100\n",
      "Length of DataFrame index: 50\n"
     ]
    }
   ],
   "source": [
    "# Analyse predicted sentiments\n",
    "print(f\"Length of predicted_sentiments: {len(predicted_sentiments)}\")\n",
    "print(f\"Length of DataFrame index: {len(selected_reviews)}\")"
   ]
  },
  {
   "cell_type": "code",
   "execution_count": 51,
   "metadata": {},
   "outputs": [
    {
     "name": "stdout",
     "output_type": "stream",
     "text": [
      "Review 1: product far disappoint child love use like ability monitor control content ease - Predicted Sentiment: positive\n",
      "Review 2: great beginner experienced person buy gift love - Predicted Sentiment: positive\n",
      "Review 3: inexpensive tablet use learn step nabi thrilled learn skype - Predicted Sentiment: positive\n",
      "Review 4: fire week love tablet great value prime members tablet shines love able easily access prime content movie download watch laterthis 1280 800 screen nice look nice crisp bright infact bright ipad pro cost 900 base model build fire insanely awesome run thick smooth glossy feel amazing hold like futuristic tab hand - Predicted Sentiment: positive\n",
      "Review 5: buy grand daughter come visit set user enter age amazon make sure access site content appropriate age simple love capability buy instal 64gig card give little tablet plenty storage price think tablet well spend hundred dollar additional speed capacity come basic tablet people need fraction cost - Predicted Sentiment: positive\n",
      "Review 6: amazon fire inch tablet perfect size purchase husband big screen phone get year ago know good purchase - Predicted Sentiment: positive\n",
      "Review 7: great read nice light weight price point give definitely worth purchase - Predicted Sentiment: positive\n",
      "Review 8: give christmas gift inlaw husband uncle love easy use fantastic feature - Predicted Sentiment: positive\n",
      "Review 9: great device read book like link borrow library book switch popular tablet brand happy choice take time book previous non kindle reader finally figure way - Predicted Sentiment: positive\n",
      "Review 10: love order book read reader - Predicted Sentiment: positive\n",
      "Review 11: easy elderly user cease ad pop - Predicted Sentiment: positive\n",
      "Review 12: excellent product easy use large screen make watch movie read easy - Predicted Sentiment: positive\n",
      "Review 13: want father tablet good value watch movie play game easy use - Predicted Sentiment: positive\n",
      "Review 14: simply need thank youand silk work wonder - Predicted Sentiment: neutral\n",
      "Review 15: got present love size screen - Predicted Sentiment: positive\n",
      "Review 16: kindle easiest use graphic screen crisp clear brilliant color - Predicted Sentiment: positive\n",
      "Review 17: nice reader perfect want need good bargain - Predicted Sentiment: positive\n",
      "Review 18: like tablet give star push start time unlock screen little annoying - Predicted Sentiment: negative\n",
      "Review 19: great video quality lot fun app fun family - Predicted Sentiment: positive\n",
      "Review 20: love love love kindle fire      old granddaughter say buy christmas purchase kindle past good     love fact use memory card help use book game music viedo thank - Predicted Sentiment: positive\n",
      "Review 21: excellent tablet nice screen wish amazon pre install play store perfect - Predicted Sentiment: positive\n",
      "Review 22: preloade read app kindle expandable app perfect travel carry library game productivity app small footprint - Predicted Sentiment: positive\n",
      "Review 23: happy product easy use picture clear take great picture - Predicted Sentiment: positive\n",
      "Review 24: grandchild home school utilize table learning app love make feel grow tablet great lean tool receive benefit - Predicted Sentiment: positive\n",
      "Review 25: great size easy carry travel need spend time look app contact manegement interactive calender important music storage use - Predicted Sentiment: positive\n",
      "Review 26: purchase tablet die meet basic need price great - Predicted Sentiment: positive\n",
      "Review 27: perfect download read book     perfect size nice bright screen - Predicted Sentiment: positive\n",
      "Review 28: surprised learn capability device husband access desktop thing couldn device - Predicted Sentiment: positive\n",
      "Review 29: get son user friendly durable - Predicted Sentiment: positive\n",
      "Review 30: visual quality fire amazing run fast easy use durable - Predicted Sentiment: positive\n",
      "Review 31: look affordable gift - Predicted Sentiment: neutral\n",
      "Review 32: great tablet price recommend look basic tablet - Predicted Sentiment: positive\n",
      "Review 33: work great love portability book overall great product - Predicted Sentiment: positive\n",
      "Review 34: learn thing new kindle fire well light weight easy use old tablet - Predicted Sentiment: positive\n",
      "Review 35: right size read book play game - Predicted Sentiment: negative\n",
      "Review 36: love tablet imaging sharp clear fast light weight love - Predicted Sentiment: positive\n",
      "Review 37: overall nice product travel purpose value money - Predicted Sentiment: positive\n",
      "Review 38: child love table great quality picture excellent camera - Predicted Sentiment: positive\n",
      "Review 39: buy tablet family disappoint - Predicted Sentiment: neutral\n",
      "Review 40: great tablet fast screen good size give problem - Predicted Sentiment: positive\n",
      "Review 41: buy year old grandmother want able play game read book library aunt live help use perfect type user play consider hardcore user want late great tech tech saavy fire tablet advertised - Predicted Sentiment: positive\n",
      "Review 42: exactly person want gift enjoy - Predicted Sentiment: positive\n",
      "Review 43: basic function tablet hardcore user want ipad - Predicted Sentiment: neutral\n",
      "Review 44: work great simple tablet huge fan silk browser bad happy purchase - Predicted Sentiment: positive\n",
      "Review 45: fast easy use second kindle fire - Predicted Sentiment: positive\n",
      "Review 46: flexibility kindle big screen like surf web download read book - Predicted Sentiment: neutral\n",
      "Review 47: money beat tablet feature picture quality great fast speed internet - Predicted Sentiment: positive\n",
      "Review 48: easy use solid build sharp screen movie need - Predicted Sentiment: positive\n",
      "Review 49: tablet perfect beginner want basic - Predicted Sentiment: positive\n",
      "Review 50: tablet     love     actually read book     large screen easy read play game     fit nicely purse - Predicted Sentiment: positive\n"
     ]
    }
   ],
   "source": [
    "# Print sample reviews and predicted sentiments\n",
    "for i, (review, sentiment) in enumerate(zip(selected_reviews, predicted_sentiments)):\n",
    "  print(f\"Review {i+1}: {review} - Predicted Sentiment: {sentiment}\") # Lists selected reviews followed by their sentiment label"
   ]
  }
 ],
 "metadata": {
  "kernelspec": {
   "display_name": "base",
   "language": "python",
   "name": "python3"
  },
  "language_info": {
   "codemirror_mode": {
    "name": "ipython",
    "version": 3
   },
   "file_extension": ".py",
   "mimetype": "text/x-python",
   "name": "python",
   "nbconvert_exporter": "python",
   "pygments_lexer": "ipython3",
   "version": "3.11.7"
  }
 },
 "nbformat": 4,
 "nbformat_minor": 2
}
